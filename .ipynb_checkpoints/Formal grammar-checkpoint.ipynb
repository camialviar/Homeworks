{
 "cells": [
  {
   "cell_type": "code",
   "execution_count": 74,
   "metadata": {
    "collapsed": false
   },
   "outputs": [
    {
     "name": "stdout",
     "output_type": "stream",
     "text": [
      "When the friendly cloud hates the tiny wind, the bright flower kisses the playful star\n",
      "When the scary sun sees the bright rain, the tiny tree burns the small sun\n",
      "When the angry flower hides the friendly rain, the sad leaf kisses the shy sun\n",
      "While the friendly wind feels the shy cloud, the warm flower sees the scary flower\n",
      "If the scary sun tickles the sad rain, the happy star hugs the scary leaf\n",
      "If the tiny rain loves the warm wind, the small wind feels the tiny leaf\n",
      "While the playful rain burns the bright cloud, the tiny sun sees the warm moon\n",
      "If the tiny cloud hates the tiny cloud, the sad sun tickles the playful sun\n",
      "When the shy tree sees the bright sun, the happy leaf fears the sad moon\n",
      "When the warm star burns the happy star, the scary sun feels the happy star\n"
     ]
    }
   ],
   "source": [
    "\"\"\"This program produces conditional sentences of the form: conditional + article + adjective + noun + verb + article \n",
    "+ adjective + noun, and a complement sentence of the form: article + adjective + noun + verb + article + adjective \n",
    "+ noun\"\"\"\n",
    "\n",
    "import random\n",
    "\n",
    "nouns = [\"sun\", \"moon\", \"cloud\", \"wind\", \"tree\", \"star\", \"rain\", \"flower\", \"leaf\"]\n",
    "verbs = [\"pushes\", \"sees\", \"hides\", \"burns\", \"feels\", \"loves\", \"hates\", \"fears\", \"hugs\", \"kisses\", \"tickles\"]\n",
    "adjectives = [\"big\", \"small\", \"shy\", \"bright\", \"warm\", \"tiny\", \"playful\", \"angry\", \"happy\", \"sad\", \"scary\", \"friendly\"]\n",
    "conditionals = [\"If\", \"When\", \"While\"] \n",
    "\n",
    "def grammar (nouns, verbs, adjectives):\n",
    "    count = 1\n",
    "    sent2 = []\n",
    "    while (count <=2):\n",
    "        adj = random.choice(adjectives) \n",
    "        noun = random.choice(nouns)\n",
    "        verb = random.choice(verbs)\n",
    "        adj1 = random.choice(adjectives)\n",
    "        noun1 = random.choice(nouns)\n",
    "        cond = random.choice(conditionals)\n",
    "        sent1 = \"the %s %s %s the %s %s\"%(adj, noun, verb, adj1, noun1)\n",
    "        sent2.append(sent1)\n",
    "        count = count + 1\n",
    "   \n",
    "    print (\"%s %s, %s\" %(cond, sent2[0], sent2[1]))\n",
    "\n",
    "sentcount = 1    \n",
    "while (sentcount < 11):\n",
    "    grammar(nouns, verbs, adjectives)\n",
    "    sentcount = sentcount + 1    "
   ]
  }
 ],
 "metadata": {
  "kernelspec": {
   "display_name": "Python 3",
   "language": "python",
   "name": "python3"
  },
  "language_info": {
   "codemirror_mode": {
    "name": "ipython",
    "version": 3
   },
   "file_extension": ".py",
   "mimetype": "text/x-python",
   "name": "python",
   "nbconvert_exporter": "python",
   "pygments_lexer": "ipython3",
   "version": "3.6.0"
  }
 },
 "nbformat": 4,
 "nbformat_minor": 2
}
